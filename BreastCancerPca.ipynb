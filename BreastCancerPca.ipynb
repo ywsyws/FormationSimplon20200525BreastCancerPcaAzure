{
 "cells": [
  {
   "cell_type": "code",
   "execution_count": 15,
   "metadata": {},
   "outputs": [],
   "source": [
    "import numpy as np\n",
    "from azureml.core import Workspace\n",
    "from sklearn.datasets import load_breast_cancer\n",
    "from sklearn.linear_model import LogisticRegression\n",
    "from sklearn.model_selection import train_test_split\n",
    "from sklearn.decomposition import PCA\n",
    "from azureml.core import Experiment\n",
    "import time"
   ]
  },
  {
   "cell_type": "code",
   "execution_count": 4,
   "metadata": {},
   "outputs": [
    {
     "name": "stdout",
     "output_type": "stream",
     "text": [
      "Deploying KeyVault with name breadcankeyvault7f384f64.\n",
      "Deploying StorageAccount with name breadcanstorage0a8d1e1db.\n",
      "Deploying AppInsights with name breadcaninsights39325944.\n",
      "Deployed AppInsights with name breadcaninsights39325944. Took 5.49 seconds.\n",
      "Deployed KeyVault with name breadcankeyvault7f384f64. Took 18.13 seconds.\n",
      "Deploying Workspace with name breadCancerPca3.\n",
      "Deployed StorageAccount with name breadcanstorage0a8d1e1db. Took 20.44 seconds.\n",
      "Deployed Workspace with name breadCancerPca3. Took 54.32 seconds.\n"
     ]
    }
   ],
   "source": [
    "ws = Workspace.create(\"breadCancerPca3\", subscription_id=\"030117c9-e67b-4755-af85-4683fe8eddf2\", \\\n",
    "                       resource_group=\"dp100_cc\", location='francecentral')"
   ]
  },
  {
   "cell_type": "code",
   "execution_count": 5,
   "metadata": {},
   "outputs": [
    {
     "data": {
      "text/plain": [
       "sklearn.utils.Bunch"
      ]
     },
     "execution_count": 5,
     "metadata": {},
     "output_type": "execute_result"
    }
   ],
   "source": [
    "data = load_breast_cancer()\n",
    "type(data)"
   ]
  },
  {
   "cell_type": "code",
   "execution_count": 6,
   "metadata": {},
   "outputs": [
    {
     "data": {
      "text/plain": [
       "array([[1.799e+01, 1.038e+01, 1.228e+02, ..., 2.654e-01, 4.601e-01,\n",
       "        1.189e-01],\n",
       "       [2.057e+01, 1.777e+01, 1.329e+02, ..., 1.860e-01, 2.750e-01,\n",
       "        8.902e-02],\n",
       "       [1.969e+01, 2.125e+01, 1.300e+02, ..., 2.430e-01, 3.613e-01,\n",
       "        8.758e-02],\n",
       "       ...,\n",
       "       [1.660e+01, 2.808e+01, 1.083e+02, ..., 1.418e-01, 2.218e-01,\n",
       "        7.820e-02],\n",
       "       [2.060e+01, 2.933e+01, 1.401e+02, ..., 2.650e-01, 4.087e-01,\n",
       "        1.240e-01],\n",
       "       [7.760e+00, 2.454e+01, 4.792e+01, ..., 0.000e+00, 2.871e-01,\n",
       "        7.039e-02]])"
      ]
     },
     "execution_count": 6,
     "metadata": {},
     "output_type": "execute_result"
    }
   ],
   "source": [
    "data.data"
   ]
  },
  {
   "cell_type": "code",
   "execution_count": 7,
   "metadata": {},
   "outputs": [
    {
     "data": {
      "text/plain": [
       "array(['mean radius', 'mean texture', 'mean perimeter', 'mean area',\n",
       "       'mean smoothness', 'mean compactness', 'mean concavity',\n",
       "       'mean concave points', 'mean symmetry', 'mean fractal dimension',\n",
       "       'radius error', 'texture error', 'perimeter error', 'area error',\n",
       "       'smoothness error', 'compactness error', 'concavity error',\n",
       "       'concave points error', 'symmetry error',\n",
       "       'fractal dimension error', 'worst radius', 'worst texture',\n",
       "       'worst perimeter', 'worst area', 'worst smoothness',\n",
       "       'worst compactness', 'worst concavity', 'worst concave points',\n",
       "       'worst symmetry', 'worst fractal dimension'], dtype='<U23')"
      ]
     },
     "execution_count": 7,
     "metadata": {},
     "output_type": "execute_result"
    }
   ],
   "source": [
    "data.feature_names"
   ]
  },
  {
   "cell_type": "code",
   "execution_count": 9,
   "metadata": {
    "scrolled": true
   },
   "outputs": [
    {
     "name": "stdout",
     "output_type": "stream",
     "text": [
      "(569, 30)\n",
      "(30,)\n"
     ]
    }
   ],
   "source": [
    "print(np.shape(data.data))\n",
    "print(np.shape(data.feature_names))"
   ]
  },
  {
   "cell_type": "code",
   "execution_count": 10,
   "metadata": {},
   "outputs": [],
   "source": [
    "experiment = Experiment(ws, \"experiment\")"
   ]
  },
  {
   "cell_type": "code",
   "execution_count": 11,
   "metadata": {},
   "outputs": [
    {
     "data": {
      "text/plain": [
       "[Experiment(Name: experiment,\n",
       " Workspace: breadCancerPca3)]"
      ]
     },
     "execution_count": 11,
     "metadata": {},
     "output_type": "execute_result"
    }
   ],
   "source": [
    "Experiment.list(ws)"
   ]
  },
  {
   "cell_type": "code",
   "execution_count": 12,
   "metadata": {},
   "outputs": [],
   "source": [
    "experiment.set_tags({\"tag1\":\"classification\"})\n",
    "experiment.set_tags({\"tag2\":\"Breast Cancer\"})\n",
    "experiment.set_tags({\"tag3\":\"PCA\"})"
   ]
  },
  {
   "cell_type": "code",
   "execution_count": 29,
   "metadata": {},
   "outputs": [],
   "source": [
    "def train_model(X, y, run, component):\n",
    "    \n",
    "    # Make an instance of the Model\n",
    "    pca = PCA(component)\n",
    "\n",
    "    pca.fit(X)\n",
    "    X = pca.transform(X)\n",
    "    X_train, X_test, y_train, y_test = train_test_split(X, y, random_state=42)\n",
    "\n",
    "    model = LogisticRegression()\n",
    "    print(f'training: component number {component}')\n",
    "    start_time = time.time()\n",
    "    model.fit(X_train, y_train)\n",
    "    duration = time.time() - start_time\n",
    "    print('done')\n",
    "    run.log('Explanied variance', pca.explained_variance_)\n",
    "    run.log(\"Number of component\", component)\n",
    "    run.log(\"Run time Duration\", duration)\n",
    "    run.log(\"Accuracy\", model.score(X_test,y_test))\n",
    "    run.complete()\n",
    "\n",
    "    return model"
   ]
  },
  {
   "cell_type": "code",
   "execution_count": 30,
   "metadata": {},
   "outputs": [
    {
     "name": "stdout",
     "output_type": "stream",
     "text": [
      "training: component number 1\n",
      "done\n",
      "training: component number 2\n",
      "done\n",
      "training: component number 3\n",
      "done\n",
      "training: component number 4\n",
      "done\n",
      "training: component number 5\n",
      "done\n",
      "training: component number 6\n",
      "done\n",
      "training: component number 7\n",
      "done\n"
     ]
    }
   ],
   "source": [
    "run = experiment.start_logging(outputs=None, snapshot_directory=False)\n",
    "X, y = data.data, data.target\n",
    "\n",
    "for component_number in (np.arange(1, 8, 1)):\n",
    "    model= train_model(X, y, run, component_number)"
   ]
  },
  {
   "cell_type": "code",
   "execution_count": null,
   "metadata": {},
   "outputs": [],
   "source": []
  }
 ],
 "metadata": {
  "kernelspec": {
   "display_name": "Python 3",
   "language": "python",
   "name": "python3"
  },
  "language_info": {
   "codemirror_mode": {
    "name": "ipython",
    "version": 3
   },
   "file_extension": ".py",
   "mimetype": "text/x-python",
   "name": "python",
   "nbconvert_exporter": "python",
   "pygments_lexer": "ipython3",
   "version": "3.6.9"
  }
 },
 "nbformat": 4,
 "nbformat_minor": 2
}
